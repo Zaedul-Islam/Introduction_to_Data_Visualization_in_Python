{
  "nbformat": 4,
  "nbformat_minor": 0,
  "metadata": {
    "colab": {
      "name": "4. Analyzing time series and images.ipynb",
      "provenance": [],
      "mount_file_id": "1v0IGwlno8logwrloLFKANVdqGLxSVl3n",
      "authorship_tag": "ABX9TyMP7efPvv5MSloPuEnhOubJ",
      "include_colab_link": true
    },
    "kernelspec": {
      "name": "python3",
      "display_name": "Python 3"
    }
  },
  "cells": [
    {
      "cell_type": "markdown",
      "metadata": {
        "id": "view-in-github",
        "colab_type": "text"
      },
      "source": [
        "<a href=\"https://colab.research.google.com/github/Zaedul-Islam/Introduction_to_Data_Visualization_in_Python/blob/master/4.%20Analyzing%20time%20series%20and%20images/Analyzing%20time%20series%20and%20images.ipynb\" target=\"_parent\"><img src=\"https://colab.research.google.com/assets/colab-badge.svg\" alt=\"Open In Colab\"/></a>"
      ]
    },
    {
      "cell_type": "markdown",
      "metadata": {
        "id": "u4xYhfL-jdPK",
        "colab_type": "text"
      },
      "source": [
        "# **Introduction to Data Visualization in Python**"
      ]
    },
    {
      "cell_type": "markdown",
      "metadata": {
        "id": "lqga73Ufje72",
        "colab_type": "text"
      },
      "source": [
        "## **4. Analyzing time series and images**"
      ]
    },
    {
      "cell_type": "code",
      "metadata": {
        "id": "2NNXcy0njcQa",
        "colab_type": "code",
        "colab": {}
      },
      "source": [
        "# Importing the libraries\n",
        "import pandas as pd\n",
        "import matplotlib.pyplot as plt\n",
        "import seaborn as sns\n",
        "\n",
        "%matplotlib inline"
      ],
      "execution_count": 0,
      "outputs": []
    },
    {
      "cell_type": "markdown",
      "metadata": {
        "id": "ObB8NEt5jjw5",
        "colab_type": "text"
      },
      "source": [
        "### **Exercise: Multiple time series on common axes**"
      ]
    },
    {
      "cell_type": "markdown",
      "metadata": {
        "id": "IR26xJHPlCli",
        "colab_type": "text"
      },
      "source": [
        "For this exercise, you will construct a plot showing four time series stocks on the same axes. The time series in question are represented in the session using the identifiers `aapl`, `ibm`, `csco`, and `msft`. You'll generate a single plot showing all the time series on common axes with a legend."
      ]
    },
    {
      "cell_type": "code",
      "metadata": {
        "id": "5E8KCkYsmLfk",
        "colab_type": "code",
        "colab": {}
      },
      "source": [
        "# Reading the dataset\n",
        "filepath = '/content/drive/My Drive/Colab Notebooks/DataCamp/Introduction to Data Visualization in Python/4. Analyzing time series and images/Dataset/stocks.csv'\n",
        "dataset = pd.read_csv(filepath)"
      ],
      "execution_count": 0,
      "outputs": []
    },
    {
      "cell_type": "markdown",
      "metadata": {
        "id": "-uOQglAylJM9",
        "colab_type": "text"
      },
      "source": [
        "### **Execise: Multiple time series slices (1)**"
      ]
    },
    {
      "cell_type": "markdown",
      "metadata": {
        "id": "VDCUbwJElLyB",
        "colab_type": "text"
      },
      "source": [
        "You can easily slice subsets corresponding to different time intervals from a time series. In particular, you can use strings like `'2001:2005'`, `'2011-03:2011-12'`, or '`2010-04-19:2010-04-30'` to extract data from time intervals of length 5 years, 10 months, or 12 days respectively.\n",
        "\n",
        "* Unlike slicing from standard Python lists, tuples, and strings, when slicing time series by labels (and other pandas Series & DataFrames by labels), the slice includes the right-most portion of the slice. That is, extracting `my_time_series['1990':'1995']` extracts data from `my_time_series` corresponding to `1990`, `1991`, `1992`, `1993`, `1994`, and `1995` inclusive.\n",
        "* You can use partial strings or datetime objects for indexing and slicing from time series.\n",
        "\n",
        "For this exercise, you will use time series slicing to plot the time series `aapl` over its full 11-year range and also over a shorter 2-year range. You'll arrange these plots in a 2×1 grid of subplots"
      ]
    },
    {
      "cell_type": "markdown",
      "metadata": {
        "id": "sRnoiV-DllS6",
        "colab_type": "text"
      },
      "source": [
        "### **Exercise: Multiple time series slices (2)**"
      ]
    },
    {
      "cell_type": "markdown",
      "metadata": {
        "id": "PJYfXmzTlq2j",
        "colab_type": "text"
      },
      "source": [
        "In this exercise, you will use the same time series `aapl` from the previous exercise and plot tighter views of the data.\n",
        "\n",
        "Partial string indexing works without slicing as well. For instance, using `my_time_series['1995']`, `my_time_series['1999-05']`, and `my_time_series['2000-11-04']` respectively extracts views of the time series `my_time_series` corresponding to the entire year 1995, the entire month May 1999, and the entire day November 4, 2000."
      ]
    },
    {
      "cell_type": "markdown",
      "metadata": {
        "id": "2fjGZNbrl6TH",
        "colab_type": "text"
      },
      "source": [
        "### **Exercise: Plotting an inset view**"
      ]
    },
    {
      "cell_type": "markdown",
      "metadata": {
        "id": "VHZ6pVZKl9OV",
        "colab_type": "text"
      },
      "source": [
        "Remember, rather than comparing plots with subplots or overlayed plots, you can generate an inset view directly using `plt.axes()`. In this exercise, you'll reproduce two of the time series plots from the preceding two exercises. Your figure will contain an inset plot to highlight the dramatic changes in AAPL stock price between November 2007 and April 2008 (as compared to the 11 years from 2001 to 2011)."
      ]
    }
  ]
}