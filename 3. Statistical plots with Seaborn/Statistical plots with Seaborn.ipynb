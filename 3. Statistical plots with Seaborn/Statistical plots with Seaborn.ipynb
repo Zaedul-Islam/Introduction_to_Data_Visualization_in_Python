{
  "nbformat": 4,
  "nbformat_minor": 0,
  "metadata": {
    "colab": {
      "name": "Untitled0.ipynb",
      "provenance": [],
      "authorship_tag": "ABX9TyP5iPfYIfkEhVlZWMjFOcuC",
      "include_colab_link": true
    },
    "kernelspec": {
      "name": "python3",
      "display_name": "Python 3"
    }
  },
  "cells": [
    {
      "cell_type": "markdown",
      "metadata": {
        "id": "view-in-github",
        "colab_type": "text"
      },
      "source": [
        "<a href=\"https://colab.research.google.com/github/Zaedul-Islam/Introduction_to_Data_Visualization_in_Python/blob/master/3.%20Statistical%20plots%20with%20Seaborn/Statistical%20plots%20with%20Seaborn.ipynb\" target=\"_parent\"><img src=\"https://colab.research.google.com/assets/colab-badge.svg\" alt=\"Open In Colab\"/></a>"
      ]
    },
    {
      "cell_type": "markdown",
      "metadata": {
        "id": "lzrnge74Ks1l",
        "colab_type": "text"
      },
      "source": [
        "# **Introduction to Data Visualization in Python**"
      ]
    },
    {
      "cell_type": "markdown",
      "metadata": {
        "id": "x52zLmz9Kyhp",
        "colab_type": "text"
      },
      "source": [
        "## **Statistical plots with Seaborn**\n"
      ]
    },
    {
      "cell_type": "markdown",
      "metadata": {
        "id": "HxPM3ACjK2pb",
        "colab_type": "text"
      },
      "source": [
        ""
      ]
    },
    {
      "cell_type": "code",
      "metadata": {
        "id": "0Fwbkgc4Kr8T",
        "colab_type": "code",
        "colab": {}
      },
      "source": [
        ""
      ],
      "execution_count": 0,
      "outputs": []
    }
  ]
}