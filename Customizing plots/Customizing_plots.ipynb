{
  "nbformat": 4,
  "nbformat_minor": 0,
  "metadata": {
    "colab": {
      "name": "Customizing plots.ipynb",
      "provenance": [],
      "collapsed_sections": [],
      "mount_file_id": "1tCQtXWHcU-SYIqpOtfPPzyhlR7fN4AWy",
      "authorship_tag": "ABX9TyP/kjCiAem5QULdm5Kgx4Tk",
      "include_colab_link": true
    },
    "kernelspec": {
      "name": "python3",
      "display_name": "Python 3"
    }
  },
  "cells": [
    {
      "cell_type": "markdown",
      "metadata": {
        "id": "view-in-github",
        "colab_type": "text"
      },
      "source": [
        "<a href=\"https://colab.research.google.com/github/Zaedul-Islam/Introduction_to_Data_Visualization_in_Python/blob/master/Customizing%20plots/Customizing_plots.ipynb\" target=\"_parent\"><img src=\"https://colab.research.google.com/assets/colab-badge.svg\" alt=\"Open In Colab\"/></a>"
      ]
    },
    {
      "cell_type": "markdown",
      "metadata": {
        "id": "akGWRxMVRYsd",
        "colab_type": "text"
      },
      "source": [
        "# **Introduction to Data Visualization in Python**"
      ]
    },
    {
      "cell_type": "markdown",
      "metadata": {
        "id": "a9DmfDPzRjlX",
        "colab_type": "text"
      },
      "source": [
        "## **1. Customizing plots**"
      ]
    },
    {
      "cell_type": "markdown",
      "metadata": {
        "id": "0heD9HMDKPXn",
        "colab_type": "text"
      },
      "source": [
        "### **Exercise: Multiple plots on single axis**"
      ]
    },
    {
      "cell_type": "markdown",
      "metadata": {
        "id": "eWf1NVO1KYCD",
        "colab_type": "text"
      },
      "source": [
        "It is time now to put together some of what you have learned and combine line plots on a common set of axes. The data set here comes from records of undergraduate degrees awarded to women in a variety of fields from 1970 to 2011. You can compare trends in degrees most easily by viewing two curves on the same set of axes.\n",
        "\n",
        "Here, three NumPy arrays have been pre-loaded for you: `year` (enumerating years from 1970 to 2011 inclusive), `physical_sciences` (representing the percentage of Physical Sciences degrees awarded to women each in corresponding year), and `computer_science` (representing the percentage of Computer Science degrees awarded to women in each corresponding year).\n",
        "\n",
        "You will issue two plt.plot() commands to draw line plots of different colors on the same set of axes. Here, `year` represents the x-axis, while `physical_sciences` and `computer_science` are the y-axes."
      ]
    },
    {
      "cell_type": "code",
      "metadata": {
        "id": "zjkc3AT3LAdj",
        "colab_type": "code",
        "colab": {}
      },
      "source": [
        "# Importing the libraries\n",
        "import pandas as pd\n",
        "import matplotlib.pyplot as plt"
      ],
      "execution_count": 0,
      "outputs": []
    },
    {
      "cell_type": "code",
      "metadata": {
        "id": "9txRtzfwLsmA",
        "colab_type": "code",
        "colab": {
          "base_uri": "https://localhost:8080/",
          "height": 275
        },
        "outputId": "b9952ef5-63cd-4f5e-9bc2-a1056c64345f"
      },
      "source": [
        "# Reading the dataset\n",
        "filepath = '/content/drive/My Drive/Colab Notebooks/DataCamp/Introduction to Data Visualization in Python/Customizing plots/Dataset/percent-bachelors-degrees-women-usa.csv'\n",
        "dataset = pd.read_csv(filepath)\n",
        "\n",
        "dataset.head()"
      ],
      "execution_count": 12,
      "outputs": [
        {
          "output_type": "execute_result",
          "data": {
            "text/html": [
              "<div>\n",
              "<style scoped>\n",
              "    .dataframe tbody tr th:only-of-type {\n",
              "        vertical-align: middle;\n",
              "    }\n",
              "\n",
              "    .dataframe tbody tr th {\n",
              "        vertical-align: top;\n",
              "    }\n",
              "\n",
              "    .dataframe thead th {\n",
              "        text-align: right;\n",
              "    }\n",
              "</style>\n",
              "<table border=\"1\" class=\"dataframe\">\n",
              "  <thead>\n",
              "    <tr style=\"text-align: right;\">\n",
              "      <th></th>\n",
              "      <th>Year</th>\n",
              "      <th>Agriculture</th>\n",
              "      <th>Architecture</th>\n",
              "      <th>Art and Performance</th>\n",
              "      <th>Biology</th>\n",
              "      <th>Business</th>\n",
              "      <th>Communications and Journalism</th>\n",
              "      <th>Computer Science</th>\n",
              "      <th>Education</th>\n",
              "      <th>Engineering</th>\n",
              "      <th>English</th>\n",
              "      <th>Foreign Languages</th>\n",
              "      <th>Health Professions</th>\n",
              "      <th>Math and Statistics</th>\n",
              "      <th>Physical Sciences</th>\n",
              "      <th>Psychology</th>\n",
              "      <th>Public Administration</th>\n",
              "      <th>Social Sciences and History</th>\n",
              "    </tr>\n",
              "  </thead>\n",
              "  <tbody>\n",
              "    <tr>\n",
              "      <th>0</th>\n",
              "      <td>1970</td>\n",
              "      <td>4.229798</td>\n",
              "      <td>11.921005</td>\n",
              "      <td>59.7</td>\n",
              "      <td>29.088363</td>\n",
              "      <td>9.064439</td>\n",
              "      <td>35.3</td>\n",
              "      <td>13.6</td>\n",
              "      <td>74.535328</td>\n",
              "      <td>0.8</td>\n",
              "      <td>65.570923</td>\n",
              "      <td>73.8</td>\n",
              "      <td>77.1</td>\n",
              "      <td>38.0</td>\n",
              "      <td>13.8</td>\n",
              "      <td>44.4</td>\n",
              "      <td>68.4</td>\n",
              "      <td>36.8</td>\n",
              "    </tr>\n",
              "    <tr>\n",
              "      <th>1</th>\n",
              "      <td>1971</td>\n",
              "      <td>5.452797</td>\n",
              "      <td>12.003106</td>\n",
              "      <td>59.9</td>\n",
              "      <td>29.394403</td>\n",
              "      <td>9.503187</td>\n",
              "      <td>35.5</td>\n",
              "      <td>13.6</td>\n",
              "      <td>74.149204</td>\n",
              "      <td>1.0</td>\n",
              "      <td>64.556485</td>\n",
              "      <td>73.9</td>\n",
              "      <td>75.5</td>\n",
              "      <td>39.0</td>\n",
              "      <td>14.9</td>\n",
              "      <td>46.2</td>\n",
              "      <td>65.5</td>\n",
              "      <td>36.2</td>\n",
              "    </tr>\n",
              "    <tr>\n",
              "      <th>2</th>\n",
              "      <td>1972</td>\n",
              "      <td>7.420710</td>\n",
              "      <td>13.214594</td>\n",
              "      <td>60.4</td>\n",
              "      <td>29.810221</td>\n",
              "      <td>10.558962</td>\n",
              "      <td>36.6</td>\n",
              "      <td>14.9</td>\n",
              "      <td>73.554520</td>\n",
              "      <td>1.2</td>\n",
              "      <td>63.664263</td>\n",
              "      <td>74.6</td>\n",
              "      <td>76.9</td>\n",
              "      <td>40.2</td>\n",
              "      <td>14.8</td>\n",
              "      <td>47.6</td>\n",
              "      <td>62.6</td>\n",
              "      <td>36.1</td>\n",
              "    </tr>\n",
              "    <tr>\n",
              "      <th>3</th>\n",
              "      <td>1973</td>\n",
              "      <td>9.653602</td>\n",
              "      <td>14.791613</td>\n",
              "      <td>60.2</td>\n",
              "      <td>31.147915</td>\n",
              "      <td>12.804602</td>\n",
              "      <td>38.4</td>\n",
              "      <td>16.4</td>\n",
              "      <td>73.501814</td>\n",
              "      <td>1.6</td>\n",
              "      <td>62.941502</td>\n",
              "      <td>74.9</td>\n",
              "      <td>77.4</td>\n",
              "      <td>40.9</td>\n",
              "      <td>16.5</td>\n",
              "      <td>50.4</td>\n",
              "      <td>64.3</td>\n",
              "      <td>36.4</td>\n",
              "    </tr>\n",
              "    <tr>\n",
              "      <th>4</th>\n",
              "      <td>1974</td>\n",
              "      <td>14.074623</td>\n",
              "      <td>17.444688</td>\n",
              "      <td>61.9</td>\n",
              "      <td>32.996183</td>\n",
              "      <td>16.204850</td>\n",
              "      <td>40.5</td>\n",
              "      <td>18.9</td>\n",
              "      <td>73.336811</td>\n",
              "      <td>2.2</td>\n",
              "      <td>62.413412</td>\n",
              "      <td>75.3</td>\n",
              "      <td>77.9</td>\n",
              "      <td>41.8</td>\n",
              "      <td>18.2</td>\n",
              "      <td>52.6</td>\n",
              "      <td>66.1</td>\n",
              "      <td>37.3</td>\n",
              "    </tr>\n",
              "  </tbody>\n",
              "</table>\n",
              "</div>"
            ],
            "text/plain": [
              "   Year  Agriculture  ...  Public Administration  Social Sciences and History\n",
              "0  1970     4.229798  ...                   68.4                         36.8\n",
              "1  1971     5.452797  ...                   65.5                         36.2\n",
              "2  1972     7.420710  ...                   62.6                         36.1\n",
              "3  1973     9.653602  ...                   64.3                         36.4\n",
              "4  1974    14.074623  ...                   66.1                         37.3\n",
              "\n",
              "[5 rows x 18 columns]"
            ]
          },
          "metadata": {
            "tags": []
          },
          "execution_count": 12
        }
      ]
    },
    {
      "cell_type": "code",
      "metadata": {
        "id": "85SApvBaLlF9",
        "colab_type": "code",
        "colab": {
          "base_uri": "https://localhost:8080/",
          "height": 295
        },
        "outputId": "9448c085-e0be-45b0-da8f-341f840db06a"
      },
      "source": [
        "# Plot in blue the % of degrees awarded to women in the Physical Sciences\n",
        "plt.plot(dataset['Year'], dataset['Physical Sciences'], color = 'blue')\n",
        "\n",
        "# Plot in red the % of degrees awarded to women in Computer Science\n",
        "plt.plot(dataset['Year'], dataset['Computer Science'], color = 'red')\n",
        "\n",
        "plt.xlabel('Year')\n",
        "\n",
        "plt.title('Physical Sciences & Computer Science')\n",
        "\n",
        "\n",
        "# Display the plot\n",
        "plt.show() "
      ],
      "execution_count": 13,
      "outputs": [
        {
          "output_type": "display_data",
          "data": {
            "image/png": "[encoded data removed]",
            "text/plain": [
              "<Figure size 432x288 with 1 Axes>"
            ]
          },
          "metadata": {
            "tags": [],
            "needs_background": "light"
          }
        }
      ]
    },
    {
      "cell_type": "markdown",
      "metadata": {
        "id": "dmulS9GwM4MG",
        "colab_type": "text"
      },
      "source": [
        "**Findings:**\n",
        "1. It looks like, for the last 25 years or so, more women have been awarded undergraduate degrees in the Physical Sciences than in Computer Science."
      ]
    },
    {
      "cell_type": "markdown",
      "metadata": {
        "id": "xTGJJ9hDOaFc",
        "colab_type": "text"
      },
      "source": [
        "### **Exercise: Using axes()**"
      ]
    },
    {
      "cell_type": "markdown",
      "metadata": {
        "id": "pxWdui6sQs1T",
        "colab_type": "text"
      },
      "source": [
        "Rather than overlaying line plots on common axes, you may prefer to plot different line plots on distinct axes. The command `plt.axes()` is one way to do this (but it requires specifying coordinates relative to the size of the figure).\n",
        "\n",
        "Here, you have the same three arrays `year`, `physical_sciences`, and `computer_science` representing percentages of degrees awarded to women over a range of years. You will use `plt.axes()` to create separate sets of axes in which you will draw each line plot.\n",
        "\n",
        "In calling `plt.axes([xlo, ylo, width, height])`, a set of axes is created and made active with lower corner at coordinates `(xlo, ylo)` of the specified `width` and `height`. Note that these coordinates can be passed to `plt.axes()` in the form of a list or a tuple.\n",
        "\n",
        "The coordinates and lengths are values between 0 and 1 representing lengths relative to the dimensions of the figure. After issuing a `plt.axes()` command, plots generated are put in that set of axes."
      ]
    },
    {
      "cell_type": "code",
      "metadata": {
        "id": "BivSp5OgQT3_",
        "colab_type": "code",
        "colab": {
          "base_uri": "https://localhost:8080/",
          "height": 337
        },
        "outputId": "c23305da-e8fe-4fb7-e597-0b70aa0bc9dc"
      },
      "source": [
        "# Create plot axes for the first line plot\n",
        "plt.axes([0.05, 0.05, 0.425, 0.9])\n",
        "\n",
        "# Plot in blue the % of degrees awarded to women in the Physical Sciences\n",
        "plt.plot(dataset['Year'], dataset['Physical Sciences'], color = 'blue')\n",
        "plt.xlabel('Year')\n",
        "plt.title('Physical Sciences')\n",
        "\n",
        "\n",
        "# Create plot axes for the second line plot\n",
        "plt.axes([0.525, 0.05, 0.425, 0.9])\n",
        "\n",
        "# Plot in red the % of degrees awarded to women in Computer Science\n",
        "plt.plot(dataset['Year'], dataset['Computer Science'], color = 'red')\n",
        "plt.xlabel('Year')\n",
        "plt.title('Computer Science')\n",
        "\n",
        "# Display the plot\n",
        "plt.show()\n"
      ],
      "execution_count": 14,
      "outputs": [
        {
          "output_type": "display_data",
          "data": {
            "image/png": "[encoded data removed]",
            "text/plain": [
              "<Figure size 432x288 with 2 Axes>"
            ]
          },
          "metadata": {
            "tags": [],
            "needs_background": "light"
          }
        }
      ]
    },
    {
      "cell_type": "markdown",
      "metadata": {
        "id": "LL44sJpoSjQw",
        "colab_type": "text"
      },
      "source": [
        "**Findings:**\n",
        "1. As you can see, not only are there now two separate plots with their own axes, but the axes for each plot are slightly different."
      ]
    },
    {
      "cell_type": "markdown",
      "metadata": {
        "id": "M21Mq_EtJQj3",
        "colab_type": "text"
      },
      "source": [
        "### **Exercise: Using subplot() (1)**"
      ]
    },
    {
      "cell_type": "markdown",
      "metadata": {
        "id": "9xm7_zv7Jawu",
        "colab_type": "text"
      },
      "source": [
        "The command `plt.axes()` requires a lot of effort to use well because the coordinates of the axes need to be set manually. A better alternative is to use `plt.subplot()` to determine the layout automatically.\n",
        "\n",
        "In this exercise, you will continue working with the same arrays from the previous exercises: `year`, `physical_sciences`, and `computer_science`. Rather than using `plt.axes()` to explicitly lay out the axes, you will use `plt.subplot(m, n, k)` to make the subplot grid of dimensions `m` by `n` and to make the `k`th subplot active (subplots are numbered starting from 1 row-wise from the top left corner of the subplot grid)."
      ]
    },
    {
      "cell_type": "code",
      "metadata": {
        "id": "wIoJB6-SLJcq",
        "colab_type": "code",
        "colab": {
          "base_uri": "https://localhost:8080/",
          "height": 297
        },
        "outputId": "a146ef93-81b2-4878-d257-cedef044f29a"
      },
      "source": [
        "# Create a figure with 1x2 subplot and make the left subplot active\n",
        "plt.subplot(1, 2, 1)\n",
        "\n",
        "# Plot in blue the % of degrees awarded to women in the Physical Sciences\n",
        "plt.plot(dataset['Year'], dataset['Physical Sciences'], color = 'blue')\n",
        "plt.xlabel('Year')\n",
        "plt.title('Physical Sciences')\n",
        "\n",
        "# Make the right subplot active in the current 1x2 subplot grid\n",
        "plt.subplot(1, 2, 2)\n",
        "\n",
        "# Plot in red the % of degrees awarded to women in Computer Science\n",
        "plt.plot(dataset['Year'], dataset['Computer Science'], color = 'red')\n",
        "plt.xlabel('Year')\n",
        "plt.title('Computer Science')\n",
        "\n",
        "# Use plt.tight_layout() to improve the spacing between subplots\n",
        "plt.tight_layout()\n",
        "plt.show()\n"
      ],
      "execution_count": 15,
      "outputs": [
        {
          "output_type": "display_data",
          "data": {
            "image/png": "[encoded data removed]",
            "text/plain": [
              "<Figure size 432x288 with 2 Axes>"
            ]
          },
          "metadata": {
            "tags": [],
            "needs_background": "light"
          }
        }
      ]
    },
    {
      "cell_type": "markdown",
      "metadata": {
        "id": "320eYmWXMUMf",
        "colab_type": "text"
      },
      "source": [
        "**Findings:**\n",
        "1. Using subplots like this is a better alternative to using plt.axes()."
      ]
    },
    {
      "cell_type": "markdown",
      "metadata": {
        "id": "eURYCdNMNviM",
        "colab_type": "text"
      },
      "source": [
        "### **Exercise: Using subplot() (2)**"
      ]
    },
    {
      "cell_type": "markdown",
      "metadata": {
        "id": "NwM3PdvYNwVL",
        "colab_type": "text"
      },
      "source": [
        "Now you have some familiarity with `plt.subplot()`, you can use it to plot more plots in larger grids of subplots of the same figure.\n",
        "\n",
        "Here, you will make a **2×2** grid of subplots and plot the percentage of degrees awarded to women in Physical Sciences (using `physical_sciences`), in Computer Science (using `computer_science`), in Health Professions (using `health`), and in Education (using `education`)."
      ]
    },
    {
      "cell_type": "code",
      "metadata": {
        "id": "lT6E8b8iQO6k",
        "colab_type": "code",
        "colab": {
          "base_uri": "https://localhost:8080/",
          "height": 297
        },
        "outputId": "a1c5af60-cea6-4cba-e4a2-2ee4f87b3e15"
      },
      "source": [
        "# Create a figure with 2x2 subplot layout and make the top left subplot active\n",
        "plt.subplot(2, 2, 1)\n",
        "\n",
        "# Plot in blue the % of degrees awarded to women in the Physical Sciences\n",
        "plt.plot(dataset['Year'], dataset['Physical Sciences'], color = 'blue')\n",
        "plt.xlabel('Year')\n",
        "plt.title('Physical Sciences')\n",
        "\n",
        "# Make the top right subplot active in the current 2x2 subplot grid \n",
        "plt.subplot(2, 2, 2)\n",
        "\n",
        "# Plot in red the % of degrees awarded to women in Computer Science\n",
        "plt.plot(dataset['Year'], dataset['Computer Science'], color = 'red')\n",
        "plt.xlabel('Year')\n",
        "plt.title('Computer Science')\n",
        "\n",
        "# Make the bottom left subplot active in the current 2x2 subplot grid\n",
        "plt.subplot(2, 2, 3)\n",
        "\n",
        "# Plot in green the % of degrees awarded to women in Health Professions\n",
        "plt.plot(dataset['Year'], dataset['Health Professions'], color = 'green')\n",
        "plt.xlabel('Year')\n",
        "plt.title('Health Professions')\n",
        "\n",
        "# Make the bottom right subplot active in the current 2x2 subplot grid\n",
        "plt.subplot(2, 2, 4)\n",
        "\n",
        "# Plot in yellow the % of degrees awarded to women in Education\n",
        "plt.plot(dataset['Year'], dataset['Education'], color = 'yellow')\n",
        "plt.title('Education')\n",
        "\n",
        "# Improve the spacing between subplots and display them\n",
        "plt.tight_layout()\n",
        "plt.show()\n"
      ],
      "execution_count": 16,
      "outputs": [
        {
          "output_type": "display_data",
          "data": {
            "image/png": "[encoded data removed]",
            "text/plain": [
              "<Figure size 432x288 with 4 Axes>"
            ]
          },
          "metadata": {
            "tags": [],
            "needs_background": "light"
          }
        }
      ]
    },
    {
      "cell_type": "markdown",
      "metadata": {
        "id": "AmVsavg3Qv7T",
        "colab_type": "text"
      },
      "source": [
        "**Findings:**\n",
        "1. It's very convenient to use this approach to create subplots in any layout."
      ]
    },
    {
      "cell_type": "markdown",
      "metadata": {
        "id": "E2trYdO4Sdhb",
        "colab_type": "text"
      },
      "source": [
        "### **Exercise: Using xlim(), ylim()**"
      ]
    },
    {
      "cell_type": "markdown",
      "metadata": {
        "id": "vx2T-o0fShb-",
        "colab_type": "text"
      },
      "source": [
        "In this exercise, you will work with the `matplotlib.pyplot` interface to quickly set the x- and y-limits of your plots.\n",
        "\n",
        "You will now create the same figure as in the previous exercise using `plt.plot()`, this time setting the axis extents using `plt.xlim()` and `plt.ylim()`. These commands allow you to either zoom or expand the plot or to set the axis ranges to include important values (such as the origin).\n",
        "\n",
        "In this exercise, as before, the percentage of women graduates in Computer Science and in the Physical Sciences are held in the variables `computer_science` and `physical_sciences` respectively over year.\n",
        "\n",
        "After creating the plot, you will use `plt.savefig()` to export the image produced to a file."
      ]
    },
    {
      "cell_type": "code",
      "metadata": {
        "id": "P3tqTBgJS5c7",
        "colab_type": "code",
        "colab": {
          "base_uri": "https://localhost:8080/",
          "height": 342
        },
        "outputId": "e8bde9f9-8e57-4b52-c9fb-f411a1ef4de8"
      },
      "source": [
        "# Plot the % of degrees awarded to women in Computer Science and the Physical Sciences\n",
        "plt.plot(dataset['Year'], dataset['Physical Sciences'], color = 'blue')\n",
        "plt.plot(dataset['Year'], dataset['Computer Science'], color = 'red')\n",
        "\n",
        "# Add the axis labels\n",
        "plt.xlabel('Year')\n",
        "plt.ylabel('Degrees awarded to women (%)')\n",
        "\n",
        "# Set the x-axis range\n",
        "plt.xlim(1990, 2010)\n",
        "\n",
        "# Set the y-axis range\n",
        "plt.ylim(0, 50)\n",
        "\n",
        "# Add a title and display the plot\n",
        "plt.title('Degrees awarded to women (1990-2010)\\nComputer Science (red)\\nPhysical Sciences (blue)')\n",
        "plt.show()\n",
        "\n",
        "# Save the image as 'xlim_and_ylim.png'\n",
        "plt.savefig('xlim_and_ylim.png')\n"
      ],
      "execution_count": 17,
      "outputs": [
        {
          "output_type": "display_data",
          "data": {
            "image/png": "[encoded data removed]",
            "text/plain": [
              "<Figure size 432x288 with 1 Axes>"
            ]
          },
          "metadata": {
            "tags": [],
            "needs_background": "light"
          }
        },
        {
          "output_type": "display_data",
          "data": {
            "text/plain": [
              "<Figure size 432x288 with 0 Axes>"
            ]
          },
          "metadata": {
            "tags": []
          }
        }
      ]
    },
    {
      "cell_type": "markdown",
      "metadata": {
        "id": "p3ucRJyRVs7m",
        "colab_type": "text"
      },
      "source": [
        "**Findings:** \n",
        "1. This plot effectively captures the difference in trends between 1990 and 2010"
      ]
    }
  ]
}