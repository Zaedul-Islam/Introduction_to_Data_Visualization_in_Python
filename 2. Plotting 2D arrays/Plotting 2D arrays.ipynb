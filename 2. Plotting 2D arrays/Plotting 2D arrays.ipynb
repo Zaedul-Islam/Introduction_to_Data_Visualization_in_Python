{
  "nbformat": 4,
  "nbformat_minor": 0,
  "metadata": {
    "colab": {
      "name": "2. Plotting 2D arrays.ipynb",
      "provenance": [],
      "collapsed_sections": [],
      "mount_file_id": "1vnC0Kq0IfGOk9CPH8vtXfUe9BMt_rh6l",
      "authorship_tag": "ABX9TyPYoXX+4oxJYoZlJUNMLES6",
      "include_colab_link": true
    },
    "kernelspec": {
      "name": "python3",
      "display_name": "Python 3"
    }
  },
  "cells": [
    {
      "cell_type": "markdown",
      "metadata": {
        "id": "view-in-github",
        "colab_type": "text"
      },
      "source": [
        "<a href=\"https://colab.research.google.com/github/Zaedul-Islam/Introduction_to_Data_Visualization_in_Python/blob/master/2.%20Plotting%202D%20arrays/Plotting%202D%20arrays.ipynb\" target=\"_parent\"><img src=\"https://colab.research.google.com/assets/colab-badge.svg\" alt=\"Open In Colab\"/></a>"
      ]
    },
    {
      "cell_type": "markdown",
      "metadata": {
        "id": "m7rKYw_BDNWa",
        "colab_type": "text"
      },
      "source": [
        "# **Introduction to Data Visualization in Python**"
      ]
    },
    {
      "cell_type": "markdown",
      "metadata": {
        "id": "65FXtnCdDVnC",
        "colab_type": "text"
      },
      "source": [
        "## **2. Plotting 2D arrays**\n"
      ]
    },
    {
      "cell_type": "code",
      "metadata": {
        "id": "oZ8iTGL0DMBd",
        "colab_type": "code",
        "colab": {}
      },
      "source": [
        "# Importing the libraries\n",
        "import numpy as np\n",
        "import pandas as pd\n",
        "import matplotlib.pyplot as plt"
      ],
      "execution_count": 0,
      "outputs": []
    },
    {
      "cell_type": "markdown",
      "metadata": {
        "id": "8BXI1BHtFkd-",
        "colab_type": "text"
      },
      "source": [
        "### **Exercise: Generating meshes**"
      ]
    },
    {
      "cell_type": "markdown",
      "metadata": {
        "id": "B_KVHb_fFkwm",
        "colab_type": "text"
      },
      "source": [
        "In order to visualize two-dimensional arrays of data, it is necessary to understand how to generate and manipulate 2-D arrays. Many Matplotlib plots support arrays as input and in particular, they support NumPy arrays. The NumPy library is the most widely-supported means for supporting numeric arrays in Python.\n",
        "\n",
        "In this exercise, you will use the meshgrid function in NumPy to generate 2-D arrays which you will then visualize using `plt.imshow()`. The simplest way to generate a meshgrid is as follows:\n",
        "\n",
        "```\n",
        "import numpy as np\n",
        "Y,X = np.meshgrid(range(10),range(20))\n",
        "```\n",
        "\n",
        "This will create two arrays with a shape of `(20,10)`, which corresponds to 20 rows along the Y-axis and 10 columns along the X-axis. In this exercise, you will use `np.meshgrid()` to generate a regular 2-D sampling of a mathematical function."
      ]
    },
    {
      "cell_type": "code",
      "metadata": {
        "id": "gCXpDeMoGDG6",
        "colab_type": "code",
        "colab": {
          "base_uri": "https://localhost:8080/",
          "height": 282
        },
        "outputId": "06994c37-8969-43e5-bcb7-219959da075f"
      },
      "source": [
        "# Generate two 1-D arrays: u, v\n",
        "u = np.linspace(start = -2, stop = 2, num = 41)\n",
        "v = np.linspace(start = -1, stop = 1, num = 21)\n",
        "\n",
        "# Generate 2-D arrays from u and v: X, Y\n",
        "X,Y = np.meshgrid(u, v)\n",
        "\n",
        "# Compute Z based on X and Y\n",
        "Z = np.sin(3*np.sqrt(X**2 + Y**2)) \n",
        "\n",
        "# Display the resulting image with pcolor()\n",
        "plt.pcolor(Z)\n",
        "plt.show()\n",
        "\n",
        "# Save the figure to 'sine_mesh.png'\n",
        "plt.savefig('sine_mesh.png')\n"
      ],
      "execution_count": 4,
      "outputs": [
        {
          "output_type": "display_data",
          "data": {
            "image/png": "[encoded data removed]",
            "text/plain": [
              "<Figure size 432x288 with 1 Axes>"
            ]
          },
          "metadata": {
            "tags": [],
            "needs_background": "light"
          }
        },
        {
          "output_type": "display_data",
          "data": {
            "text/plain": [
              "<Figure size 432x288 with 0 Axes>"
            ]
          },
          "metadata": {
            "tags": []
          }
        }
      ]
    },
    {
      "cell_type": "markdown",
      "metadata": {
        "id": "JGNFUzGUQJOo",
        "colab_type": "text"
      },
      "source": [
        "### **Exercise: Array orientation**"
      ]
    },
    {
      "cell_type": "code",
      "metadata": {
        "id": "p1NBlMJaQLTQ",
        "colab_type": "code",
        "colab": {
          "base_uri": "https://localhost:8080/",
          "height": 269
        },
        "outputId": "a7289f73-2472-42c6-d702-a3ad9f847e41"
      },
      "source": [
        "A = np.array([[1, 0, -1], [2, 0, 1], [1, 1, 1]])\n",
        "\n",
        "plt.pcolor(A, cmap='Blues')\n",
        "plt.colorbar()\n",
        "plt.show()"
      ],
      "execution_count": 5,
      "outputs": [
        {
          "output_type": "display_data",
          "data": {
            "image/png": "[encoded data removed]",
            "text/plain": [
              "<Figure size 432x288 with 2 Axes>"
            ]
          },
          "metadata": {
            "tags": [],
            "needs_background": "light"
          }
        }
      ]
    }
  ]
}